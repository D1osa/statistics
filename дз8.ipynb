{
 "cells": [
  {
   "cell_type": "code",
   "execution_count": 25,
   "id": "6e0580e8",
   "metadata": {},
   "outputs": [],
   "source": [
    "import numpy as np\n",
    "from scipy import stats"
   ]
  },
  {
   "cell_type": "code",
   "execution_count": 26,
   "id": "8e7d0670",
   "metadata": {},
   "outputs": [
    {
     "data": {
      "text/plain": [
       "array([173, 175, 180, 178, 177, 185, 183, 182])"
      ]
     },
     "execution_count": 26,
     "metadata": {},
     "output_type": "execute_result"
    }
   ],
   "source": [
    "#даны значения - три группы спортсменов - футболисты, хоккеисты, штангисты (качественные показатели)\n",
    "#рост спортсменов в каждой группе - количественные показатели\n",
    "#сформулируем нулевую гипотезу: различия среднего роста среди взрослых футболистов, хоккеистов и штангистов нет\n",
    "y_1 = np.array([173, 175, 180, 178, 177, 185, 183, 182])\n",
    "y_1"
   ]
  },
  {
   "cell_type": "code",
   "execution_count": 27,
   "id": "c4ade722",
   "metadata": {},
   "outputs": [
    {
     "data": {
      "text/plain": [
       "array([177, 179, 180, 188, 177, 172, 171, 184, 180])"
      ]
     },
     "execution_count": 27,
     "metadata": {},
     "output_type": "execute_result"
    }
   ],
   "source": [
    "y_2 = np.array([177, 179, 180, 188, 177, 172, 171, 184, 180])\n",
    "y_2"
   ]
  },
  {
   "cell_type": "code",
   "execution_count": 28,
   "id": "4a2f0457",
   "metadata": {},
   "outputs": [
    {
     "data": {
      "text/plain": [
       "array([172, 173, 169, 177, 166, 180, 178, 177, 172, 166, 170])"
      ]
     },
     "execution_count": 28,
     "metadata": {},
     "output_type": "execute_result"
    }
   ],
   "source": [
    "y_3 = np.array([172, 173, 169, 177, 166, 180, 178, 177, 172, 166, 170])\n",
    "y_3"
   ]
  },
  {
   "cell_type": "code",
   "execution_count": 17,
   "id": "21dcbdd5",
   "metadata": {},
   "outputs": [
    {
     "data": {
      "text/plain": [
       "F_onewayResult(statistic=5.500053450812596, pvalue=0.010482206918698694)"
      ]
     },
     "execution_count": 17,
     "metadata": {},
     "output_type": "execute_result"
    }
   ],
   "source": [
    "stats.f_oneway(y_1, y_2, y_3)"
   ]
  },
  {
   "cell_type": "code",
   "execution_count": null,
   "id": "75e0b5f0",
   "metadata": {},
   "outputs": [],
   "source": [
    "#если альфа = 5% или 0.05, то подтверждается альтернативная гипотеза, что различия среднего роста есть, \n",
    "#т.к. pvalue меньше альфа\n",
    "#если альфа = 1% или 0.01, то подтверждается нулевая гипотеза, т.к. pvalue больше альфа"
   ]
  }
 ],
 "metadata": {
  "kernelspec": {
   "display_name": "Python 3",
   "language": "python",
   "name": "python3"
  },
  "language_info": {
   "codemirror_mode": {
    "name": "ipython",
    "version": 3
   },
   "file_extension": ".py",
   "mimetype": "text/x-python",
   "name": "python",
   "nbconvert_exporter": "python",
   "pygments_lexer": "ipython3",
   "version": "3.8.8"
  }
 },
 "nbformat": 4,
 "nbformat_minor": 5
}
