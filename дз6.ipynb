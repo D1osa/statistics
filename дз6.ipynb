{
 "cells": [
  {
   "cell_type": "code",
   "execution_count": 61,
   "id": "ac91bd93",
   "metadata": {},
   "outputs": [],
   "source": [
    "#задача №1\n",
    "import numpy as np\n",
    "import pandas as pd"
   ]
  },
  {
   "cell_type": "code",
   "execution_count": 62,
   "id": "4a9a563f",
   "metadata": {},
   "outputs": [],
   "source": [
    "zp = np.array([35, 45, 190, 200, 40, 70, 54, 150, 120, 110])"
   ]
  },
  {
   "cell_type": "code",
   "execution_count": 63,
   "id": "6b9a241b",
   "metadata": {},
   "outputs": [],
   "source": [
    "ks = np.array([401, 574, 874, 919, 459, 739, 653, 902, 746, 832])"
   ]
  },
  {
   "cell_type": "code",
   "execution_count": 64,
   "id": "1ded3f15",
   "metadata": {},
   "outputs": [
    {
     "data": {
      "text/plain": [
       "9157.839999999997"
      ]
     },
     "execution_count": 64,
     "metadata": {},
     "output_type": "execute_result"
    }
   ],
   "source": [
    "cov_r = np.mean(zp * ks) - np.mean(zp) * np.mean(ks)\n",
    "cov_r"
   ]
  },
  {
   "cell_type": "code",
   "execution_count": 65,
   "id": "400acbc4",
   "metadata": {},
   "outputs": [
    {
     "data": {
      "text/plain": [
       "array([[ 3494.64,  9157.84],\n",
       "       [ 9157.84, 30468.89]])"
      ]
     },
     "execution_count": 65,
     "metadata": {},
     "output_type": "execute_result"
    }
   ],
   "source": [
    "cov_f = np.cov(zp, ks, ddof = 0)\n",
    "cov_f"
   ]
  },
  {
   "cell_type": "code",
   "execution_count": 66,
   "id": "6bdd829d",
   "metadata": {},
   "outputs": [
    {
     "data": {
      "text/plain": [
       "59.115480206118605"
      ]
     },
     "execution_count": 66,
     "metadata": {},
     "output_type": "execute_result"
    }
   ],
   "source": [
    "sigma_zp = np.std(zp)\n",
    "sigma_zp"
   ]
  },
  {
   "cell_type": "code",
   "execution_count": 67,
   "id": "fdd0300f",
   "metadata": {},
   "outputs": [
    {
     "data": {
      "text/plain": [
       "174.55340157098058"
      ]
     },
     "execution_count": 67,
     "metadata": {},
     "output_type": "execute_result"
    }
   ],
   "source": [
    "sigma_ks = np.std(ks)\n",
    "sigma_ks"
   ]
  },
  {
   "cell_type": "code",
   "execution_count": 68,
   "id": "e8939b9a",
   "metadata": {},
   "outputs": [
    {
     "data": {
      "text/plain": [
       "0.8874900920739158"
      ]
     },
     "execution_count": 68,
     "metadata": {},
     "output_type": "execute_result"
    }
   ],
   "source": [
    "Pearson = cov_r / (sigma_zp * sigma_ks)\n",
    "Pearson"
   ]
  },
  {
   "cell_type": "code",
   "execution_count": 69,
   "id": "c1b8b3bf",
   "metadata": {},
   "outputs": [
    {
     "data": {
      "text/plain": [
       "array([[1.        , 0.88749009],\n",
       "       [0.88749009, 1.        ]])"
      ]
     },
     "execution_count": 69,
     "metadata": {},
     "output_type": "execute_result"
    }
   ],
   "source": [
    "corrcoef = np.corrcoef(zp, ks)\n",
    "corrcoef"
   ]
  },
  {
   "cell_type": "code",
   "execution_count": 70,
   "id": "29cfa2d5",
   "metadata": {},
   "outputs": [],
   "source": [
    "#с библиотекой пандас я мало знакома, был только вводный курс по питону, \n",
    "#вот, что нашла в интернете, прошу не снижать за это оценку\n",
    "zp_ = pd.Series([35, 45, 190, 200, 40, 70, 54, 150, 120, 110])\n",
    "ks_ = pd.Series([401, 574, 874, 919, 459, 739, 653, 902, 746, 832])"
   ]
  },
  {
   "cell_type": "code",
   "execution_count": 71,
   "id": "c7c6e92d",
   "metadata": {},
   "outputs": [
    {
     "data": {
      "text/plain": [
       "0.8874900920739163"
      ]
     },
     "execution_count": 71,
     "metadata": {},
     "output_type": "execute_result"
    }
   ],
   "source": [
    "Pearson_pnd = zp_.corr(ks_)\n",
    "Pearson_pnd"
   ]
  },
  {
   "cell_type": "code",
   "execution_count": 72,
   "id": "7cc7e9bd",
   "metadata": {},
   "outputs": [],
   "source": [
    "#задача №2\n",
    "IQ = np.array([131, 125, 115, 122, 131, 115, 107, 99, 125, 111])"
   ]
  },
  {
   "cell_type": "code",
   "execution_count": 73,
   "id": "77b3d4cb",
   "metadata": {},
   "outputs": [
    {
     "data": {
      "text/plain": [
       "(10, 10.54566788359614, 118.1)"
      ]
     },
     "execution_count": 73,
     "metadata": {},
     "output_type": "execute_result"
    }
   ],
   "source": [
    "n = IQ.size\n",
    "std = IQ.std(ddof=1)\n",
    "mean = IQ.mean()\n",
    "n, std, mean"
   ]
  },
  {
   "cell_type": "code",
   "execution_count": 74,
   "id": "d39f409d",
   "metadata": {},
   "outputs": [
    {
     "data": {
      "text/plain": [
       "7.543725720217947"
      ]
     },
     "execution_count": 74,
     "metadata": {},
     "output_type": "execute_result"
    }
   ],
   "source": [
    "t = 2.2621 #по таблице\n",
    "#отклонение\n",
    "x = t*std/n**0.5\n",
    "x"
   ]
  },
  {
   "cell_type": "code",
   "execution_count": 75,
   "id": "ca71edd6",
   "metadata": {},
   "outputs": [
    {
     "data": {
      "text/plain": [
       "(110.55627427978204, 125.64372572021794)"
      ]
     },
     "execution_count": 75,
     "metadata": {},
     "output_type": "execute_result"
    }
   ],
   "source": [
    "#интервал\n",
    "a = mean - x\n",
    "b = mean + x\n",
    "a, b"
   ]
  },
  {
   "cell_type": "code",
   "execution_count": 76,
   "id": "996fa2e6",
   "metadata": {},
   "outputs": [],
   "source": [
    "#задача №3\n",
    "M = 174.2\n",
    "n = 27\n",
    "D = 25\n",
    "sigma = D**0.5"
   ]
  },
  {
   "cell_type": "code",
   "execution_count": 77,
   "id": "e63eacd8",
   "metadata": {},
   "outputs": [
    {
     "data": {
      "text/plain": [
       "1.8860108793527777"
      ]
     },
     "execution_count": 77,
     "metadata": {},
     "output_type": "execute_result"
    }
   ],
   "source": [
    "z = 1.96 #по таблице\n",
    "#отклонение\n",
    "d = z*sigma/n**0.5\n",
    "d"
   ]
  },
  {
   "cell_type": "code",
   "execution_count": 78,
   "id": "2d1dd97a",
   "metadata": {},
   "outputs": [
    {
     "data": {
      "text/plain": [
       "(172.31398912064722, 176.08601087935276)"
      ]
     },
     "execution_count": 78,
     "metadata": {},
     "output_type": "execute_result"
    }
   ],
   "source": [
    "A = M - d\n",
    "B = M + d\n",
    "A, B"
   ]
  }
 ],
 "metadata": {
  "kernelspec": {
   "display_name": "Python 3",
   "language": "python",
   "name": "python3"
  },
  "language_info": {
   "codemirror_mode": {
    "name": "ipython",
    "version": 3
   },
   "file_extension": ".py",
   "mimetype": "text/x-python",
   "name": "python",
   "nbconvert_exporter": "python",
   "pygments_lexer": "ipython3",
   "version": "3.8.8"
  }
 },
 "nbformat": 4,
 "nbformat_minor": 5
}
