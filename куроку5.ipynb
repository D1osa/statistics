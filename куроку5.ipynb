{
 "cells": [
  {
   "cell_type": "code",
   "execution_count": 5,
   "id": "21daee44",
   "metadata": {},
   "outputs": [],
   "source": [
    "import numpy as np\n",
    "import math\n",
    "from scipy.stats import norm\n",
    "from scipy.stats import t"
   ]
  },
  {
   "cell_type": "code",
   "execution_count": 11,
   "id": "5a73fe12",
   "metadata": {},
   "outputs": [],
   "source": [
    "#рассчет сигмы и среднего арифметического для задачи №2\n",
    "A = np.array([6.9, 6.1, 6.2, 6.8, 7.5, 6.3, 6.4, 6.9, 6.7, 6.1])"
   ]
  },
  {
   "cell_type": "code",
   "execution_count": 12,
   "id": "e847f5c8",
   "metadata": {},
   "outputs": [
    {
     "name": "stdout",
     "output_type": "stream",
     "text": [
      "10 0.4508017549014448 6.590000000000001\n"
     ]
    }
   ],
   "source": [
    "n = A.size\n",
    "std = A.std(ddof=1)\n",
    "mean = A.mean()\n",
    "print(n, std, mean)"
   ]
  },
  {
   "cell_type": "code",
   "execution_count": 14,
   "id": "a578c1d7",
   "metadata": {},
   "outputs": [],
   "source": [
    "#рассчет сигмы и среднего арифметического для задачи №4\n",
    "B = np.array([202, 203, 199, 197, 195, 201, 200, 204, 194, 190])"
   ]
  },
  {
   "cell_type": "code",
   "execution_count": 15,
   "id": "a48b0539",
   "metadata": {},
   "outputs": [
    {
     "name": "stdout",
     "output_type": "stream",
     "text": [
      "10 4.453463071962462 198.5\n"
     ]
    }
   ],
   "source": [
    "n = B.size\n",
    "std = B.std(ddof=1)\n",
    "mean = B.mean()\n",
    "print(n, std, mean)"
   ]
  },
  {
   "cell_type": "code",
   "execution_count": null,
   "id": "03ea1e6a",
   "metadata": {},
   "outputs": [],
   "source": []
  }
 ],
 "metadata": {
  "kernelspec": {
   "display_name": "Python 3",
   "language": "python",
   "name": "python3"
  },
  "language_info": {
   "codemirror_mode": {
    "name": "ipython",
    "version": 3
   },
   "file_extension": ".py",
   "mimetype": "text/x-python",
   "name": "python",
   "nbconvert_exporter": "python",
   "pygments_lexer": "ipython3",
   "version": "3.8.8"
  }
 },
 "nbformat": 4,
 "nbformat_minor": 5
}
