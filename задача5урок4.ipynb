{
 "cells": [
  {
   "cell_type": "code",
   "execution_count": 2,
   "id": "4c4e2625",
   "metadata": {},
   "outputs": [],
   "source": [
    "from scipy.stats import norm"
   ]
  },
  {
   "cell_type": "code",
   "execution_count": 3,
   "id": "2533d71b",
   "metadata": {},
   "outputs": [],
   "source": [
    "Mu = 174\n",
    "Sigma = 8"
   ]
  },
  {
   "cell_type": "code",
   "execution_count": 10,
   "id": "d354c9de",
   "metadata": {},
   "outputs": [
    {
     "name": "stdout",
     "output_type": "stream",
     "text": [
      "Вероятность того, что случайным образом выбранный взрослый человек имеет рост больше 182 см:  0.15865525393145707\n"
     ]
    }
   ],
   "source": [
    "#а)\n",
    "Pa = 1 - norm.cdf(182, Mu, Sigma)\n",
    "print(\"Вероятность того, что случайным образом выбранный взрослый человек имеет рост больше 182 см: \", Pa)"
   ]
  },
  {
   "cell_type": "code",
   "execution_count": 12,
   "id": "6f4d355d",
   "metadata": {},
   "outputs": [
    {
     "name": "stdout",
     "output_type": "stream",
     "text": [
      "Вероятность того, что случайным образом выбранный взрослый человек имеет рост больше 190 см:  0.02275013194817921\n"
     ]
    }
   ],
   "source": [
    "#б)\n",
    "Pb = 1 - norm.cdf(190, Mu, Sigma)\n",
    "print(\"Вероятность того, что случайным образом выбранный взрослый человек имеет рост больше 190 см: \", Pb)"
   ]
  },
  {
   "cell_type": "code",
   "execution_count": 13,
   "id": "bc0e5b84",
   "metadata": {},
   "outputs": [
    {
     "name": "stdout",
     "output_type": "stream",
     "text": [
      "Вероятность того, что случайным образом выбранный взрослый человек имеет рост от 166 до 190 см:  0.8185946141203637\n"
     ]
    }
   ],
   "source": [
    "#в)\n",
    "Pc = norm.cdf(190, Mu, Sigma) - norm.cdf(166, Mu, Sigma)\n",
    "print(\"Вероятность того, что случайным образом выбранный взрослый человек имеет рост от 166 до 190 см: \", Pc)"
   ]
  },
  {
   "cell_type": "code",
   "execution_count": 14,
   "id": "d6263a0f",
   "metadata": {},
   "outputs": [
    {
     "name": "stdout",
     "output_type": "stream",
     "text": [
      "Вероятность того, что случайным образом выбранный взрослый человек имеет рост от 166 до 182 см:  0.6826894921370859\n"
     ]
    }
   ],
   "source": [
    "#г)\n",
    "Pd = norm.cdf(182, Mu, Sigma) - norm.cdf(166, Mu, Sigma)\n",
    "print(\"Вероятность того, что случайным образом выбранный взрослый человек имеет рост от 166 до 182 см: \", Pd)"
   ]
  },
  {
   "cell_type": "code",
   "execution_count": 15,
   "id": "5346cf2a",
   "metadata": {},
   "outputs": [
    {
     "name": "stdout",
     "output_type": "stream",
     "text": [
      "Вероятность того, что случайным образом выбранный взрослый человек имеет рост от 158 до 190 см:  0.9544997361036416\n"
     ]
    }
   ],
   "source": [
    "#д)\n",
    "Pe = norm.cdf(190, Mu, Sigma) - norm.cdf(158, Mu, Sigma)\n",
    "print(\"Вероятность того, что случайным образом выбранный взрослый человек имеет рост от 158 до 190 см: \", Pe)"
   ]
  },
  {
   "cell_type": "code",
   "execution_count": 19,
   "id": "23be0c5e",
   "metadata": {},
   "outputs": [
    {
     "name": "stdout",
     "output_type": "stream",
     "text": [
      "Вероятность того, что случайным образом выбранный взрослый человек имеет рост не выше 158 или не ниже 190 см:  0.0241000299798092\n"
     ]
    }
   ],
   "source": [
    "#е)\n",
    "Pf = norm.cdf(150, Mu, Sigma) + (1 - norm.cdf(190, Mu, Sigma))\n",
    "print(\"Вероятность того, что случайным образом выбранный взрослый человек имеет рост не выше 158 или не ниже 190 см: \", Pf)"
   ]
  },
  {
   "cell_type": "code",
   "execution_count": 20,
   "id": "8b05dc5f",
   "metadata": {},
   "outputs": [
    {
     "name": "stdout",
     "output_type": "stream",
     "text": [
      "Вероятность того, что случайным образом выбранный взрослый человек имеет рост не выше 158 или не ниже 198 см:  0.0026997960632601965\n"
     ]
    }
   ],
   "source": [
    "#ё)\n",
    "Pg = norm.cdf(150, Mu, Sigma) + (1 - norm.cdf(198, Mu, Sigma))\n",
    "print(\"Вероятность того, что случайным образом выбранный взрослый человек имеет рост не выше 158 или не ниже 198 см: \", Pg)"
   ]
  },
  {
   "cell_type": "code",
   "execution_count": 21,
   "id": "0447f664",
   "metadata": {},
   "outputs": [
    {
     "name": "stdout",
     "output_type": "stream",
     "text": [
      "Вероятность того, что случайным образом выбранный взрослый человек имеет рост нb;t 166 см:  0.15865525393145707\n"
     ]
    }
   ],
   "source": [
    "# ж)\n",
    "Ph = norm.cdf(166, Mu, Sigma)\n",
    "print(\"Вероятность того, что случайным образом выбранный взрослый человек имеет рост нb;t 166 см: \", Ph)"
   ]
  }
 ],
 "metadata": {
  "kernelspec": {
   "display_name": "Python 3",
   "language": "python",
   "name": "python3"
  },
  "language_info": {
   "codemirror_mode": {
    "name": "ipython",
    "version": 3
   },
   "file_extension": ".py",
   "mimetype": "text/x-python",
   "name": "python",
   "nbconvert_exporter": "python",
   "pygments_lexer": "ipython3",
   "version": "3.8.8"
  }
 },
 "nbformat": 4,
 "nbformat_minor": 5
}
